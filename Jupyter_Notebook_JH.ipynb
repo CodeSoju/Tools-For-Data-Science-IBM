{
  "metadata": {
    "kernelspec": {
      "name": "python",
      "display_name": "Pyolite",
      "language": "python"
    },
    "language_info": {
      "codemirror_mode": {
        "name": "python",
        "version": 3
      },
      "file_extension": ".py",
      "mimetype": "text/x-python",
      "name": "python",
      "nbconvert_exporter": "python",
      "pygments_lexer": "ipython3",
      "version": "3.8"
    }
  },
  "nbformat_minor": 4,
  "nbformat": 4,
  "cells": [
    {
      "cell_type": "markdown",
      "source": "<center>\n    <img src=\"https://s3-api.us-geo.objectstorage.softlayer.net/cf-courses-data/CognitiveClass/Logos/organization_logo/organization_logo.png\" width=\"300\" alt=\"cognitiveclass.ai logo\"  />\n</center>\n",
      "metadata": {}
    },
    {
      "cell_type": "markdown",
      "source": "#### Add your code below following the instructions given in the course\n",
      "metadata": {}
    },
    {
      "cell_type": "markdown",
      "source": "# My Jupyter Notebook on IBM Watson Studio",
      "metadata": {}
    },
    {
      "cell_type": "markdown",
      "source": "__Joseph Huaynate__\nDevOps Engineer",
      "metadata": {}
    },
    {
      "cell_type": "markdown",
      "source": "_I'm interested in data science because of it's practical application to real world problems. As well as, using mathematics and programming in order to let the data solve a problem._",
      "metadata": {}
    },
    {
      "cell_type": "markdown",
      "source": "### Calculate the average of two numbers",
      "metadata": {}
    },
    {
      "cell_type": "code",
      "source": "def average (a, b):\n    return (a + b)/2 \n\naverage(12, 6)",
      "metadata": {
        "trusted": true
      },
      "execution_count": 2,
      "outputs": [
        {
          "execution_count": 2,
          "output_type": "execute_result",
          "data": {
            "text/plain": "9.0"
          },
          "metadata": {}
        }
      ]
    },
    {
      "cell_type": "markdown",
      "source": "* Drink Coffee\n* Complete Coursera course\n* Code in Python\n\n<img src=\"data:image/jpeg;base64,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\" alt=\"Coffee Bean\" title=\"Cafe\" />\n\n*** \n",
      "metadata": {}
    },
    {
      "cell_type": "code",
      "source": "",
      "metadata": {
        "trusted": true
      },
      "execution_count": null,
      "outputs": []
    },
    {
      "cell_type": "code",
      "source": "",
      "metadata": {},
      "execution_count": null,
      "outputs": []
    }
  ]
}